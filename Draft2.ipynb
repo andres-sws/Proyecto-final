{
 "cells": [
  {
   "cell_type": "code",
   "execution_count": 1,
   "metadata": {},
   "outputs": [
    {
     "name": "stdout",
     "output_type": "stream",
     "text": [
      "Populating the interactive namespace from numpy and matplotlib\n"
     ]
    }
   ],
   "source": [
    "import numpy as np\n",
    "import matplotlib.pyplot as plt\n",
    "from scipy.integrate import odeint \n",
    "%pylab inline"
   ]
  },
  {
   "cell_type": "code",
   "execution_count": 2,
   "metadata": {},
   "outputs": [],
   "source": [
    "d_default = 8.64\n",
    "mu_1_default = 4.95*100\n",
    "mu_2_default = 4.95*0.01\n",
    "v_s_default = 0.12\n",
    "v_d_default = 1.23\n",
    "w_default = 0.001\n",
    "k_1_default = 2.19*0.0001\n",
    "k_2_default = 6.12*0.00001\n",
    "k_3_default = 0.997148\n",
    "k_4_default = 6.79*0.01\n"
   ]
  },
  {
   "cell_type": "code",
   "execution_count": 3,
   "metadata": {},
   "outputs": [],
   "source": [
    "     \n",
    "def RK4(a0, b0, x0, y0, z0, t0, h, F5, F4, F3, F2, F1):\n",
    "\n",
    "    ka1 = h*F5(a0, b0, x0, y0, z0, t0)\n",
    "    kb1 = h*F4(a0, b0, x0, y0, z0, t0)\n",
    "    kx1 = h*F3(a0, b0, x0, y0, z0, t0)\n",
    "    ky1 = h*F2(a0, b0, x0, y0, z0, t0)\n",
    "    kz1 = h*F1(a0, b0, x0, y0, z0, t0)\n",
    "    \n",
    "    ka2 = h*F5(a0+h*ka1/2, b0+h*kb1/2, x0+h*kx1/2, y0+h*ky1/2, z0+h*kz1/2, t0+h/2)\n",
    "    kb2 = h*F4(a0+h*ka1/2, b0+h*kb1/2, x0+h*kx1/2, y0+h*ky1/2, z0+h*kz1/2, t0+h/2)\n",
    "    kx2 = h*F3(a0+h*ka1/2, b0+h*kb1/2, x0+h*kx1/2, y0+h*ky1/2, z0+h*kz1/2, t0+h/2)\n",
    "    ky2 = h*F2(a0+h*ka1/2, b0+h*kb1/2, x0+h*kx1/2, y0+h*ky1/2, z0+h*kz1/2, t0+h/2)\n",
    "    kz2 = h*F1(a0+h*ka1/2, b0+h*kb1/2, x0+h*kx1/2, y0+h*ky1/2, z0+h*kz1/2, t0+h/2)\n",
    "    \n",
    "    ka3 = h*F5(a0+h*ka2/2, b0+h*kb2/2, x0+h*kx2/2, y0+h*ky2/2, z0+h*kz2/2, t0+h/2)\n",
    "    kb3 = h*F4(a0+h*ka2/2, b0+h*kb2/2, x0+h*kx2/2, y0+h*ky2/2, z0+h*kz2/2, t0+h/2)\n",
    "    kx3 = h*F3(a0+h*ka2/2, b0+h*kb2/2, x0+h*kx2/2, y0+h*ky2/2, z0+h*kz2/2, t0+h/2)\n",
    "    ky3 = h*F2(a0+h*ka2/2, b0+h*kb2/2, x0+h*kx2/2, y0+h*ky2/2, z0+h*kz2/2, t0+h/2)\n",
    "    kz3 = h*F1(a0+h*ka2/2, b0+h*kb2/2, x0+h*kx2/2, y0+h*ky2/2, z0+h*kz2/2, t0+h/2)\n",
    "    \n",
    "    ka4 = h*F5(a0+h*ka3, b0+h*kb3, x0+h*kx3, y0+h*ky3, z0+h*kz3, t0+h)\n",
    "    kb4 = h*F4(a0+h*ka3, b0+h*kb3, x0+h*kx3, y0+h*ky3, z0+h*kz3, t0+h)\n",
    "    kx4 = h*F3(a0+h*ka3, b0+h*kb3, x0+h*kx3, y0+h*ky3, z0+h*kz3, t0+h)     \n",
    "    ky4 = h*F2(a0+h*ka3, b0+h*kb3, x0+h*kx3, y0+h*ky3, z0+h*kz3, t0+h)\n",
    "    kz4 = h*F1(a0+h*ka3, b0+h*kb3, x0+h*kx3, y0+h*ky3, z0+h*kz3, t0+h)\n",
    "    \n",
    "    an = a0 + (1/6.)*(ka1 + 2*ka2 + 2*ka3 + ka4)\n",
    "    bn = b0 + (1/6.)*(kb1 + 2*kb2 + 2*kb3 + kb4)\n",
    "    xn = x0 + (1/6.)*(kx1 + 2*kx2 + 2*kx3 + kx4)\n",
    "    yn = y0 + (1/6.)*(ky1 + 2*ky2 + 2*ky3 + ky4) \n",
    "    zn = z0 + (1/6.)*(kz1 + 2*kz2 + 2*kz3 + kz4)\n",
    "    \n",
    "    return [an,bn,xn,yn,zn]"
   ]
  },
  {
   "cell_type": "code",
   "execution_count": 4,
   "metadata": {},
   "outputs": [],
   "source": [
    "def f(t):\n",
    "    C = [2.0, 10.5, 2.7]\n",
    "    T = [1988., 2100., 2265.]\n",
    "    S = [21., 96., 57.]\n",
    "    \n",
    "    f=0\n",
    "    for i in range(len(T)):\n",
    "        f+=C[i]*np.exp(-(t-T[i])**2/S[i]**2)\n",
    "    return f\n",
    "        \n",
    "    "
   ]
  },
  {
   "cell_type": "code",
   "execution_count": 5,
   "metadata": {},
   "outputs": [],
   "source": [
    "def F5(p, sigma_s, sigma_d, alpha_s, alpha_d, t):\n",
    "    \n",
    "    h_s = (sigma_s -(sigma_s**2 - k_3_default*alpha_s*(2*sigma_s-alpha_s))**(0.5))/k_3_default\n",
    "    c_s = (alpha_s - h_s)/2\n",
    "    p_s = k_4_default*(h_s)**2/c_s\n",
    "    \n",
    "    F5 = (p_s - p)/d_default + f(t)/mu_1_default\n",
    "    \n",
    "    return F5\n",
    "\n",
    "def F4(p, sigma_s, sigma_d, alpha_s, alpha_d, t):\n",
    "    \n",
    "    h_s = (sigma_s -(sigma_s**2 - k_3_default*alpha_s*(2*sigma_s-alpha_s))**(0.5))/k_3_default\n",
    "    c_s = (alpha_s - h_s)/2\n",
    "    p_s = k_4_default*(h_s)**2/c_s\n",
    "    \n",
    "    F4 = (w_default*(sigma_d - sigma_s) - k_1_default - mu_2_default*(p_s-p)/d_default)/v_s_default\n",
    "    \n",
    "    return F4\n",
    "\n",
    "def F3(p, sigma_s, sigma_d, alpha_s, alpha_d, t):\n",
    "\n",
    "    F3 = (k_1_default - w_default*(sigma_d - sigma_s))/v_d_default\n",
    "    \n",
    "    return F3\n",
    "\n",
    "def F2(p, sigma_s, sigma_d, alpha_s, alpha_d, t):\n",
    "\n",
    "    F2 = (w_default*(alpha_d - alpha_s) - k_2_default)/v_s_default\n",
    "    \n",
    "    return F2\n",
    "\n",
    "def F1(p, sigma_s, sigma_d, alpha_s, alpha_d, t):\n",
    "    \n",
    "    F1 = (k_2_default - w_default*(alpha_d - alpha_s))/v_d_default\n",
    "    \n",
    "    return F1\n",
    "    "
   ]
  },
  {
   "cell_type": "code",
   "execution_count": 6,
   "metadata": {},
   "outputs": [],
   "source": [
    "Numpuntos=np.array([10,100,1000,10000,1000000])\n",
    "\n",
    "p_initial = 1.00\n",
    "sigma_s_initial = 2.01\n",
    "sigma_d_initial = 2.23\n",
    "alpha_s_initial = 2.20\n",
    "alpha_d_initial = 2.26 \n",
    "t_initial = 1000.\n",
    "t_final = 5000."
   ]
  },
  {
   "cell_type": "code",
   "execution_count": 7,
   "metadata": {},
   "outputs": [],
   "source": [
    "p_sol = []\n",
    "sigma_s_sol = []\n",
    "sigma_d_sol = []\n",
    "alpha_s_sol = []\n",
    "alpha_d_sol = []\n",
    "\n",
    "H=(t_final-t_initial)/Numpuntos"
   ]
  },
  {
   "cell_type": "code",
   "execution_count": 8,
   "metadata": {},
   "outputs": [],
   "source": [
    "T=np.linspace(t_initial, t_final, Numpuntos[3])\n",
    "\n",
    "p_sol.append(p_initial)\n",
    "sigma_s_sol.append(sigma_s_initial)\n",
    "sigma_d_sol.append(sigma_d_initial)\n",
    "alpha_s_sol.append(alpha_s_initial)\n",
    "alpha_d_sol.append(alpha_d_initial)\n",
    "\n",
    "\n",
    "\n",
    "h=np.abs(t_final-t_initial)/Numpuntos[3]\n",
    "\n",
    "#V=[p_initial, sigma_s_initial, sigma_d_initial, alpha_s_initial, alpha_d_initial]\n",
    "for i in T[1:]:\n",
    "    \n",
    "    pn = RK4(p_sol[-1], sigma_s_sol[-1], sigma_d_sol[-1], alpha_s_sol[-1], alpha_d_sol[-1], i, h, F5, F4, F3, F2, F1)[0]\n",
    "    sigma_sn = RK4(p_sol[-1], sigma_s_sol[-1], sigma_d_sol[-1], alpha_s_sol[-1], alpha_d_sol[-1], i, h, F5, F4, F3, F2, F1)[1]\n",
    "    sigma_dn = RK4(p_sol[-1], sigma_s_sol[-1], sigma_d_sol[-1], alpha_s_sol[-1], alpha_d_sol[-1], i, h, F5, F4, F3, F2, F1)[2]\n",
    "    alpha_sn = RK4(p_sol[-1], sigma_s_sol[-1], sigma_d_sol[-1], alpha_s_sol[-1], alpha_d_sol[-1], i, h, F5, F4, F3, F2, F1)[3]\n",
    "    alpha_dn = RK4(p_sol[-1], sigma_s_sol[-1], sigma_d_sol[-1], alpha_s_sol[-1], alpha_d_sol[-1], i, h, F5, F4, F3, F2, F1)[4]\n",
    "    #V[0],V[1],V[2],V[3],V[4] = pn, sigma_sn, sigma_dn, alpha_sn, alpha_dn\n",
    "    \n",
    "    p_sol.append(pn)\n",
    "    sigma_s_sol.append(sigma_sn)\n",
    "    sigma_d_sol.append(sigma_dn)\n",
    "    alpha_s_sol.append(alpha_sn)\n",
    "    alpha_d_sol.append(alpha_dn)\n",
    "    "
   ]
  },
  {
   "cell_type": "code",
   "execution_count": 9,
   "metadata": {},
   "outputs": [
    {
     "data": {
      "text/plain": [
       "(10000, 10000)"
      ]
     },
     "execution_count": 9,
     "metadata": {},
     "output_type": "execute_result"
    }
   ],
   "source": [
    "len(T),len(p_sol)"
   ]
  },
  {
   "cell_type": "code",
   "execution_count": 10,
   "metadata": {},
   "outputs": [],
   "source": [
    "h_s_sol=[]\n",
    "c_s_sol=[]\n",
    "p_s_sol=[]\n",
    "\n",
    "for i in range(len(T)):\n",
    "    h_s = (sigma_s_sol[i] - (sigma_s_sol[i]**2 - k_3_default*alpha_s_sol[i]*(2*sigma_s_sol[i] - alpha_s_sol[i]))**(0.5))/k_3_default\n",
    "    c_s = (alpha_s_sol[i] - h_s)/2\n",
    "    p_s = k_4_default*h_s**2/c_s\n",
    "    \n",
    "    h_s_sol.append(h_s)\n",
    "    c_s_sol.append(c_s)\n",
    "    p_s_sol.append(p_s)\n",
    "    "
   ]
  },
  {
   "cell_type": "code",
   "execution_count": 11,
   "metadata": {},
   "outputs": [],
   "source": [
    "F=[]\n",
    "for i in range(len(T)):\n",
    "    F.append(f(T[i])/10.)"
   ]
  },
  {
   "cell_type": "code",
   "execution_count": 12,
   "metadata": {},
   "outputs": [
    {
     "data": {
      "image/png": "[encoded data removed]",
      "text/plain": [
       "<Figure size 720x504 with 1 Axes>"
      ]
     },
     "metadata": {
      "needs_background": "light"
     },
     "output_type": "display_data"
    }
   ],
   "source": [
    "plt.figure(figsize=(10,7))\n",
    "plt.plot(T,p_sol, label='p(t)  [PAL]')\n",
    "plt.plot(T,sigma_s_sol,'-.', label=r'$\\sigma_{s} (t)$  $[mol / m^{3}]$')\n",
    "plt.plot(T,sigma_d_sol,':', label=r'$\\sigma_{d} (t)$  $[mol / m^{3}]$')\n",
    "plt.plot(T,F, '--',label='Fuente de emision    $[10^{15} mol / año]$')\n",
    "plt.grid()\n",
    "plt.legend()\n",
    "plt.xlabel('Año (d.C.)')\n",
    "plt.ylim(0,5)\n",
    "#plt.xlim(1800,2600)\n",
    "plt.savefig('Solucion_sistema.png')"
   ]
  },
  {
   "cell_type": "code",
   "execution_count": 13,
   "metadata": {},
   "outputs": [
    {
     "data": {
      "text/plain": [
       "3284"
      ]
     },
     "execution_count": 13,
     "metadata": {},
     "output_type": "execute_result"
    }
   ],
   "source": [
    "p_sol.index(max(p_sol))"
   ]
  },
  {
   "cell_type": "code",
   "execution_count": 14,
   "metadata": {},
   "outputs": [
    {
     "data": {
      "text/plain": [
       "2350.13501350135"
      ]
     },
     "execution_count": 14,
     "metadata": {},
     "output_type": "execute_result"
    }
   ],
   "source": [
    "T[3375]"
   ]
  },
  {
   "cell_type": "code",
   "execution_count": 15,
   "metadata": {},
   "outputs": [
    {
     "data": {
      "text/plain": [
       "-0.04118984262504455"
      ]
     },
     "execution_count": 15,
     "metadata": {},
     "output_type": "execute_result"
    }
   ],
   "source": [
    "p_sol[3375]-max(p_sol)"
   ]
  },
  {
   "cell_type": "code",
   "execution_count": 16,
   "metadata": {},
   "outputs": [
    {
     "data": {
      "text/plain": [
       "2313.7313731373138"
      ]
     },
     "execution_count": 16,
     "metadata": {},
     "output_type": "execute_result"
    }
   ],
   "source": [
    "T[p_sol.index(max(p_sol))]"
   ]
  },
  {
   "cell_type": "code",
   "execution_count": 17,
   "metadata": {},
   "outputs": [
    {
     "data": {
      "text/plain": [
       "2100.1100110011002"
      ]
     },
     "execution_count": 17,
     "metadata": {},
     "output_type": "execute_result"
    }
   ],
   "source": [
    "T[F.index(max(F))]"
   ]
  },
  {
   "cell_type": "code",
   "execution_count": 18,
   "metadata": {},
   "outputs": [
    {
     "data": {
      "text/plain": [
       "[<matplotlib.lines.Line2D at 0x11b20c290>]"
      ]
     },
     "execution_count": 18,
     "metadata": {},
     "output_type": "execute_result"
    },
    {
     "data": {
      "image/png": "[encoded data removed]",
      "text/plain": [
       "<Figure size 432x288 with 1 Axes>"
      ]
     },
     "metadata": {
      "needs_background": "light"
     },
     "output_type": "display_data"
    }
   ],
   "source": [
    "plt.plot(T,alpha_s_sol)\n",
    "#plt.ylim(0,5)\n"
   ]
  },
  {
   "cell_type": "code",
   "execution_count": 19,
   "metadata": {},
   "outputs": [
    {
     "data": {
      "text/plain": [
       "[<matplotlib.lines.Line2D at 0x11b51b0d0>]"
      ]
     },
     "execution_count": 19,
     "metadata": {},
     "output_type": "execute_result"
    },
    {
     "data": {
      "image/png": "[encoded data removed]",
      "text/plain": [
       "<Figure size 432x288 with 1 Axes>"
      ]
     },
     "metadata": {
      "needs_background": "light"
     },
     "output_type": "display_data"
    }
   ],
   "source": [
    "plt.plot(T,alpha_d_sol)\n",
    "#plt.ylim(0,5)\n"
   ]
  },
  {
   "cell_type": "code",
   "execution_count": null,
   "metadata": {},
   "outputs": [],
   "source": [
    "\n",
    "\n",
    "    "
   ]
  },
  {
   "cell_type": "code",
   "execution_count": 20,
   "metadata": {},
   "outputs": [
    {
     "data": {
      "text/plain": [
       "[<matplotlib.lines.Line2D at 0x11b142310>]"
      ]
     },
     "execution_count": 20,
     "metadata": {},
     "output_type": "execute_result"
    },
    {
     "data": {
      "image/png": "[encoded data removed]",
      "text/plain": [
       "<Figure size 432x288 with 1 Axes>"
      ]
     },
     "metadata": {
      "needs_background": "light"
     },
     "output_type": "display_data"
    }
   ],
   "source": [
    "plt.plot(T,F)"
   ]
  },
  {
   "cell_type": "code",
   "execution_count": 21,
   "metadata": {},
   "outputs": [
    {
     "data": {
      "text/plain": [
       "[<matplotlib.lines.Line2D at 0x1189926d0>]"
      ]
     },
     "execution_count": 21,
     "metadata": {},
     "output_type": "execute_result"
    },
    {
     "data": {
      "image/png": "[encoded data removed]",
      "text/plain": [
       "<Figure size 432x288 with 1 Axes>"
      ]
     },
     "metadata": {
      "needs_background": "light"
     },
     "output_type": "display_data"
    }
   ],
   "source": [
    "plt.plot(T, h_s_sol)"
   ]
  },
  {
   "cell_type": "code",
   "execution_count": 22,
   "metadata": {},
   "outputs": [
    {
     "data": {
      "text/plain": [
       "[<matplotlib.lines.Line2D at 0x11aca4890>]"
      ]
     },
     "execution_count": 22,
     "metadata": {},
     "output_type": "execute_result"
    },
    {
     "data": {
      "image/png": "[encoded data removed]",
      "text/plain": [
       "<Figure size 432x288 with 1 Axes>"
      ]
     },
     "metadata": {
      "needs_background": "light"
     },
     "output_type": "display_data"
    }
   ],
   "source": [
    "plt.plot(T, c_s_sol)"
   ]
  },
  {
   "cell_type": "code",
   "execution_count": 23,
   "metadata": {},
   "outputs": [
    {
     "data": {
      "text/plain": [
       "[<matplotlib.lines.Line2D at 0x11b746910>]"
      ]
     },
     "execution_count": 23,
     "metadata": {},
     "output_type": "execute_result"
    },
    {
     "data": {
      "image/png": "[encoded data removed]",
      "text/plain": [
       "<Figure size 432x288 with 1 Axes>"
      ]
     },
     "metadata": {
      "needs_background": "light"
     },
     "output_type": "display_data"
    }
   ],
   "source": [
    "plt.plot(T, p_s_sol)\n",
    "#plt.plot(T, p_sol)"
   ]
  },
  {
   "cell_type": "code",
   "execution_count": null,
   "metadata": {},
   "outputs": [],
   "source": []
  },
  {
   "cell_type": "code",
   "execution_count": null,
   "metadata": {},
   "outputs": [],
   "source": []
  },
  {
   "cell_type": "code",
   "execution_count": null,
   "metadata": {},
   "outputs": [],
   "source": []
  }
 ],
 "metadata": {
  "kernelspec": {
   "display_name": "Python 3",
   "language": "python",
   "name": "python3"
  },
  "language_info": {
   "codemirror_mode": {
    "name": "ipython",
    "version": 3
   },
   "file_extension": ".py",
   "mimetype": "text/x-python",
   "name": "python",
   "nbconvert_exporter": "python",
   "pygments_lexer": "ipython3",
   "version": "3.7.4"
  }
 },
 "nbformat": 4,
 "nbformat_minor": 2
}
