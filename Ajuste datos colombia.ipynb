{
 "cells": [
  {
   "cell_type": "code",
   "execution_count": 1,
   "metadata": {},
   "outputs": [],
   "source": [
    "import numpy as np\n",
    "import matplotlib.pyplot as plt\n",
    "import pandas as pd\n",
    "from scipy.optimize import curve_fit"
   ]
  },
  {
   "cell_type": "code",
   "execution_count": 2,
   "metadata": {},
   "outputs": [],
   "source": [
    "d = pd.read_csv('cumulative-co-emissions.csv')"
   ]
  },
  {
   "cell_type": "code",
   "execution_count": 3,
   "metadata": {},
   "outputs": [
    {
     "data": {
      "text/html": [
       "<div>\n",
       "<style scoped>\n",
       "    .dataframe tbody tr th:only-of-type {\n",
       "        vertical-align: middle;\n",
       "    }\n",
       "\n",
       "    .dataframe tbody tr th {\n",
       "        vertical-align: top;\n",
       "    }\n",
       "\n",
       "    .dataframe thead th {\n",
       "        text-align: right;\n",
       "    }\n",
       "</style>\n",
       "<table border=\"1\" class=\"dataframe\">\n",
       "  <thead>\n",
       "    <tr style=\"text-align: right;\">\n",
       "      <th></th>\n",
       "      <th>Entity</th>\n",
       "      <th>Code</th>\n",
       "      <th>Year</th>\n",
       "      <th>Cumulative CO₂ emissions by nation (tonnes)</th>\n",
       "    </tr>\n",
       "  </thead>\n",
       "  <tbody>\n",
       "    <tr>\n",
       "      <td>0</td>\n",
       "      <td>Afghanistan</td>\n",
       "      <td>AFG</td>\n",
       "      <td>1751</td>\n",
       "      <td>0</td>\n",
       "    </tr>\n",
       "    <tr>\n",
       "      <td>1</td>\n",
       "      <td>Afghanistan</td>\n",
       "      <td>AFG</td>\n",
       "      <td>1752</td>\n",
       "      <td>0</td>\n",
       "    </tr>\n",
       "    <tr>\n",
       "      <td>2</td>\n",
       "      <td>Afghanistan</td>\n",
       "      <td>AFG</td>\n",
       "      <td>1753</td>\n",
       "      <td>0</td>\n",
       "    </tr>\n",
       "    <tr>\n",
       "      <td>3</td>\n",
       "      <td>Afghanistan</td>\n",
       "      <td>AFG</td>\n",
       "      <td>1754</td>\n",
       "      <td>0</td>\n",
       "    </tr>\n",
       "    <tr>\n",
       "      <td>4</td>\n",
       "      <td>Afghanistan</td>\n",
       "      <td>AFG</td>\n",
       "      <td>1755</td>\n",
       "      <td>0</td>\n",
       "    </tr>\n",
       "  </tbody>\n",
       "</table>\n",
       "</div>"
      ],
      "text/plain": [
       "        Entity Code  Year  Cumulative CO₂ emissions by nation (tonnes)\n",
       "0  Afghanistan  AFG  1751                                            0\n",
       "1  Afghanistan  AFG  1752                                            0\n",
       "2  Afghanistan  AFG  1753                                            0\n",
       "3  Afghanistan  AFG  1754                                            0\n",
       "4  Afghanistan  AFG  1755                                            0"
      ]
     },
     "execution_count": 3,
     "metadata": {},
     "output_type": "execute_result"
    }
   ],
   "source": [
    "d.head()"
   ]
  },
  {
   "cell_type": "code",
   "execution_count": 4,
   "metadata": {},
   "outputs": [],
   "source": [
    "Indexes = []\n",
    "for i in range(len(d)):\n",
    "    if (d['Entity'][i]=='Colombia'):\n",
    "        Indexes.append(i)"
   ]
  },
  {
   "cell_type": "code",
   "execution_count": 5,
   "metadata": {},
   "outputs": [
    {
     "data": {
      "text/plain": [
       "[<matplotlib.lines.Line2D at 0x1151acb90>]"
      ]
     },
     "execution_count": 5,
     "metadata": {},
     "output_type": "execute_result"
    },
    {
     "data": {
      "image/png": "[encoded data removed]",
      "text/plain": [
       "<Figure size 432x288 with 1 Axes>"
      ]
     },
     "metadata": {
      "needs_background": "light"
     },
     "output_type": "display_data"
    }
   ],
   "source": [
    "plt.plot(d['Year'][12549:12815], d['Cumulative CO₂ emissions by nation (tonnes)'][12549:12815])"
   ]
  },
  {
   "cell_type": "code",
   "execution_count": 6,
   "metadata": {},
   "outputs": [],
   "source": [
    "Year = d['Year'][12549:12815]\n",
    "Data = d['Cumulative CO₂ emissions by nation (tonnes)'][12549:12815]\n",
    "Data= (Data*1e6/44.)/1e13"
   ]
  },
  {
   "cell_type": "code",
   "execution_count": 7,
   "metadata": {},
   "outputs": [],
   "source": [
    "f = lambda x, A, u, sigma: A*(1/(2*np.pi*sigma))*np.exp(-(0.5)*((x-u)/sigma)**2)"
   ]
  },
  {
   "cell_type": "code",
   "execution_count": 8,
   "metadata": {},
   "outputs": [],
   "source": [
    "x = np.linspace(-10, 10, 100)\n",
    "y = f(x, 1, 0, 1)"
   ]
  },
  {
   "cell_type": "code",
   "execution_count": 9,
   "metadata": {},
   "outputs": [
    {
     "data": {
      "text/plain": [
       "[<matplotlib.lines.Line2D at 0x11530e610>]"
      ]
     },
     "execution_count": 9,
     "metadata": {},
     "output_type": "execute_result"
    },
    {
     "data": {
      "image/png": "[encoded data removed]",
      "text/plain": [
       "<Figure size 432x288 with 1 Axes>"
      ]
     },
     "metadata": {
      "needs_background": "light"
     },
     "output_type": "display_data"
    }
   ],
   "source": [
    "plt.plot(x, y)"
   ]
  },
  {
   "cell_type": "code",
   "execution_count": 10,
   "metadata": {},
   "outputs": [
    {
     "data": {
      "text/plain": [
       "12549    1751\n",
       "12550    1752\n",
       "12551    1753\n",
       "12552    1754\n",
       "12553    1755\n",
       "         ... \n",
       "12810    2012\n",
       "12811    2013\n",
       "12812    2014\n",
       "12813    2015\n",
       "12814    2016\n",
       "Name: Year, Length: 266, dtype: int64"
      ]
     },
     "execution_count": 10,
     "metadata": {},
     "output_type": "execute_result"
    }
   ],
   "source": [
    "popt, pcov = curve_fit(f, Year, Data, p0=[1e9, 2000, 1.5])\n",
    "Year"
   ]
  },
  {
   "cell_type": "code",
   "execution_count": 11,
   "metadata": {},
   "outputs": [],
   "source": [
    "Years = np.linspace(1751, 2200, 1000)\n",
    "Y = f(Years, *popt)"
   ]
  },
  {
   "cell_type": "code",
   "execution_count": 12,
   "metadata": {},
   "outputs": [
    {
     "data": {
      "text/plain": [
       "[<matplotlib.lines.Line2D at 0x11532ce90>]"
      ]
     },
     "execution_count": 12,
     "metadata": {},
     "output_type": "execute_result"
    },
    {
     "data": {
      "image/png": "[encoded data removed]",
      "text/plain": [
       "<Figure size 432x288 with 1 Axes>"
      ]
     },
     "metadata": {
      "needs_background": "light"
     },
     "output_type": "display_data"
    }
   ],
   "source": [
    "plt.figure()\n",
    "plt.plot(d['Year'][12549:12815], Data)\n",
    "plt.plot(Years, Y)"
   ]
  },
  {
   "cell_type": "code",
   "execution_count": 13,
   "metadata": {},
   "outputs": [
    {
     "data": {
      "text/plain": [
       "array([1605.95191803, 2035.33786738,   31.95688926])"
      ]
     },
     "execution_count": 13,
     "metadata": {},
     "output_type": "execute_result"
    }
   ],
   "source": [
    "popt"
   ]
  },
  {
   "cell_type": "code",
   "execution_count": 14,
   "metadata": {},
   "outputs": [],
   "source": [
    "f = lambda x: (1605.95191803*(1/(2*np.pi*31.95688926))*np.exp(-(0.5)*((x-2035.33786738)/31.95688926)**2))"
   ]
  },
  {
   "cell_type": "code",
   "execution_count": 15,
   "metadata": {},
   "outputs": [
    {
     "data": {
      "text/plain": [
       "[<matplotlib.lines.Line2D at 0x115424b90>]"
      ]
     },
     "execution_count": 15,
     "metadata": {},
     "output_type": "execute_result"
    },
    {
     "data": {
      "image/png": "[encoded data removed]",
      "text/plain": [
       "<Figure size 432x288 with 1 Axes>"
      ]
     },
     "metadata": {
      "needs_background": "light"
     },
     "output_type": "display_data"
    }
   ],
   "source": [
    "plt.plot(Years, f(Years))"
   ]
  },
  {
   "cell_type": "code",
   "execution_count": 16,
   "metadata": {},
   "outputs": [
    {
     "name": "stdout",
     "output_type": "stream",
     "text": [
      "0.00021875 6.125e-05 0.99746 0.0679\n"
     ]
    }
   ],
   "source": [
    "d_default = 8.64\n",
    "mu_1_default = 4.95*100\n",
    "mu_2_default = 4.95*0.01\n",
    "v_s_default = 0.12\n",
    "v_d_default = 1.23\n",
    "w_default = 0.001\n",
    "\n",
    "\n",
    "\n",
    "corat=0.25\n",
    "prod=0.000175\n",
    "watemp=288.\n",
    "k_1_default = (1 + corat)*prod\n",
    "k_2_default = (2.*corat -0.15)*prod\n",
    "k_3_default = 1-4.*(0.000575+0.000006*(watemp-278))\n",
    "k_4_default = 6.79e-2#0.035 + 0.0019*(watemp-278)\n",
    "print (k_1_default,k_2_default,k_3_default,k_4_default)"
   ]
  },
  {
   "cell_type": "code",
   "execution_count": 17,
   "metadata": {},
   "outputs": [],
   "source": [
    "     \n",
    "def RK4(a0, b0, x0, y0, z0, t0, h, F5, F4, F3, F2, F1):\n",
    "\n",
    "    ka1 = h*F5(a0, b0, x0, y0, z0, t0)\n",
    "    kb1 = h*F4(a0, b0, x0, y0, z0, t0)\n",
    "    kx1 = h*F3(a0, b0, x0, y0, z0, t0)\n",
    "    ky1 = h*F2(a0, b0, x0, y0, z0, t0)\n",
    "    kz1 = h*F1(a0, b0, x0, y0, z0, t0)\n",
    "    \n",
    "    ka2 = h*F5(a0+h*ka1/2, b0+h*kb1/2, x0+h*kx1/2, y0+h*ky1/2, z0+h*kz1/2, t0+h/2)\n",
    "    kb2 = h*F4(a0+h*ka1/2, b0+h*kb1/2, x0+h*kx1/2, y0+h*ky1/2, z0+h*kz1/2, t0+h/2)\n",
    "    kx2 = h*F3(a0+h*ka1/2, b0+h*kb1/2, x0+h*kx1/2, y0+h*ky1/2, z0+h*kz1/2, t0+h/2)\n",
    "    ky2 = h*F2(a0+h*ka1/2, b0+h*kb1/2, x0+h*kx1/2, y0+h*ky1/2, z0+h*kz1/2, t0+h/2)\n",
    "    kz2 = h*F1(a0+h*ka1/2, b0+h*kb1/2, x0+h*kx1/2, y0+h*ky1/2, z0+h*kz1/2, t0+h/2)\n",
    "    \n",
    "    ka3 = h*F5(a0+h*ka2/2, b0+h*kb2/2, x0+h*kx2/2, y0+h*ky2/2, z0+h*kz2/2, t0+h/2)\n",
    "    kb3 = h*F4(a0+h*ka2/2, b0+h*kb2/2, x0+h*kx2/2, y0+h*ky2/2, z0+h*kz2/2, t0+h/2)\n",
    "    kx3 = h*F3(a0+h*ka2/2, b0+h*kb2/2, x0+h*kx2/2, y0+h*ky2/2, z0+h*kz2/2, t0+h/2)\n",
    "    ky3 = h*F2(a0+h*ka2/2, b0+h*kb2/2, x0+h*kx2/2, y0+h*ky2/2, z0+h*kz2/2, t0+h/2)\n",
    "    kz3 = h*F1(a0+h*ka2/2, b0+h*kb2/2, x0+h*kx2/2, y0+h*ky2/2, z0+h*kz2/2, t0+h/2)\n",
    "    \n",
    "    ka4 = h*F5(a0+h*ka3, b0+h*kb3, x0+h*kx3, y0+h*ky3, z0+h*kz3, t0+h)\n",
    "    kb4 = h*F4(a0+h*ka3, b0+h*kb3, x0+h*kx3, y0+h*ky3, z0+h*kz3, t0+h)\n",
    "    kx4 = h*F3(a0+h*ka3, b0+h*kb3, x0+h*kx3, y0+h*ky3, z0+h*kz3, t0+h)     \n",
    "    ky4 = h*F2(a0+h*ka3, b0+h*kb3, x0+h*kx3, y0+h*ky3, z0+h*kz3, t0+h)\n",
    "    kz4 = h*F1(a0+h*ka3, b0+h*kb3, x0+h*kx3, y0+h*ky3, z0+h*kz3, t0+h)\n",
    "    \n",
    "    an = a0 + (1/6.)*(ka1 + 2*ka2 + 2*ka3 + ka4)\n",
    "    bn = b0 + (1/6.)*(kb1 + 2*kb2 + 2*kb3 + kb4)\n",
    "    xn = x0 + (1/6.)*(kx1 + 2*kx2 + 2*kx3 + kx4)\n",
    "    yn = y0 + (1/6.)*(ky1 + 2*ky2 + 2*ky3 + ky4) \n",
    "    zn = z0 + (1/6.)*(kz1 + 2*kz2 + 2*kz3 + kz4)\n",
    "    \n",
    "    return [an,bn,xn,yn,zn]"
   ]
  },
  {
   "cell_type": "code",
   "execution_count": 18,
   "metadata": {},
   "outputs": [],
   "source": [
    "def F5(p, sigma_s, sigma_d, alpha_s, alpha_d, t):\n",
    "    \n",
    "    h_s = (sigma_s -(sigma_s**2 - k_3_default*alpha_s*(2*sigma_s-alpha_s))**(0.5))/k_3_default\n",
    "    c_s = (alpha_s - h_s)/2\n",
    "    p_s = k_4_default*(h_s)**2/c_s\n",
    "    \n",
    "    F5 = (p_s - p)/d_default + f(t)/mu_1_default\n",
    "    \n",
    "    return F5\n",
    "\n",
    "def F4(p, sigma_s, sigma_d, alpha_s, alpha_d, t):\n",
    "    \n",
    "    h_s = (sigma_s -(sigma_s**2 - k_3_default*alpha_s*(2*sigma_s-alpha_s))**(0.5))/k_3_default\n",
    "    c_s = (alpha_s - h_s)/2\n",
    "    p_s = k_4_default*(h_s)**2/c_s\n",
    "    \n",
    "    F4 = (w_default*(sigma_d - sigma_s) - k_1_default - mu_2_default*(p_s-p)/d_default)/v_s_default\n",
    "    \n",
    "    return F4\n",
    "\n",
    "def F3(p, sigma_s, sigma_d, alpha_s, alpha_d, t):\n",
    "\n",
    "    F3 = (k_1_default - w_default*(sigma_d - sigma_s))/v_d_default\n",
    "    \n",
    "    return F3\n",
    "\n",
    "def F2(p, sigma_s, sigma_d, alpha_s, alpha_d, t):\n",
    "\n",
    "    F2 = (w_default*(alpha_d - alpha_s) - k_2_default)/v_s_default\n",
    "    \n",
    "    return F2\n",
    "\n",
    "def F1(p, sigma_s, sigma_d, alpha_s, alpha_d, t):\n",
    "    \n",
    "    F1 = (k_2_default - w_default*(alpha_d - alpha_s))/v_d_default\n",
    "    \n",
    "    return F1\n",
    "    "
   ]
  },
  {
   "cell_type": "code",
   "execution_count": 19,
   "metadata": {},
   "outputs": [],
   "source": [
    "Numpuntos=np.array([10,100,1000,10000,1000000])\n",
    "\n",
    "p_initial = 1.00\n",
    "sigma_s_initial = 2.01\n",
    "sigma_d_initial = 2.23\n",
    "alpha_s_initial = 2.20\n",
    "alpha_d_initial = 2.26 \n",
    "t_initial = 1000.\n",
    "t_final = 5000."
   ]
  },
  {
   "cell_type": "code",
   "execution_count": 20,
   "metadata": {},
   "outputs": [],
   "source": [
    "p_sol = []\n",
    "sigma_s_sol = []\n",
    "sigma_d_sol = []\n",
    "alpha_s_sol = []\n",
    "alpha_d_sol = []\n",
    "\n",
    "H=(t_final-t_initial)/Numpuntos"
   ]
  },
  {
   "cell_type": "code",
   "execution_count": 21,
   "metadata": {},
   "outputs": [],
   "source": [
    "T=np.linspace(t_initial, t_final, Numpuntos[3])\n",
    "\n",
    "p_sol.append(p_initial)\n",
    "sigma_s_sol.append(sigma_s_initial)\n",
    "sigma_d_sol.append(sigma_d_initial)\n",
    "alpha_s_sol.append(alpha_s_initial)\n",
    "alpha_d_sol.append(alpha_d_initial)\n",
    "\n",
    "\n",
    "\n",
    "h=np.abs(t_final-t_initial)/Numpuntos[3]\n",
    "\n",
    "#V=[p_initial, sigma_s_initial, sigma_d_initial, alpha_s_initial, alpha_d_initial]\n",
    "for i in T[1:]:\n",
    "    \n",
    "    pn = RK4(p_sol[-1], sigma_s_sol[-1], sigma_d_sol[-1], alpha_s_sol[-1], alpha_d_sol[-1], i, h, F5, F4, F3, F2, F1)[0]\n",
    "    sigma_sn = RK4(p_sol[-1], sigma_s_sol[-1], sigma_d_sol[-1], alpha_s_sol[-1], alpha_d_sol[-1], i, h, F5, F4, F3, F2, F1)[1]\n",
    "    sigma_dn = RK4(p_sol[-1], sigma_s_sol[-1], sigma_d_sol[-1], alpha_s_sol[-1], alpha_d_sol[-1], i, h, F5, F4, F3, F2, F1)[2]\n",
    "    alpha_sn = RK4(p_sol[-1], sigma_s_sol[-1], sigma_d_sol[-1], alpha_s_sol[-1], alpha_d_sol[-1], i, h, F5, F4, F3, F2, F1)[3]\n",
    "    alpha_dn = RK4(p_sol[-1], sigma_s_sol[-1], sigma_d_sol[-1], alpha_s_sol[-1], alpha_d_sol[-1], i, h, F5, F4, F3, F2, F1)[4]\n",
    "    #V[0],V[1],V[2],V[3],V[4] = pn, sigma_sn, sigma_dn, alpha_sn, alpha_dn\n",
    "    \n",
    "    p_sol.append(pn)\n",
    "    sigma_s_sol.append(sigma_sn)\n",
    "    sigma_d_sol.append(sigma_dn)\n",
    "    alpha_s_sol.append(alpha_sn)\n",
    "    alpha_d_sol.append(alpha_dn)\n",
    "    "
   ]
  },
  {
   "cell_type": "code",
   "execution_count": 22,
   "metadata": {},
   "outputs": [
    {
     "data": {
      "text/plain": [
       "(10000, 10000)"
      ]
     },
     "execution_count": 22,
     "metadata": {},
     "output_type": "execute_result"
    }
   ],
   "source": [
    "len(T),len(p_sol)"
   ]
  },
  {
   "cell_type": "code",
   "execution_count": null,
   "metadata": {},
   "outputs": [],
   "source": []
  },
  {
   "cell_type": "code",
   "execution_count": 23,
   "metadata": {},
   "outputs": [
    {
     "data": {
      "text/plain": [
       "[<matplotlib.lines.Line2D at 0x1140a3a10>]"
      ]
     },
     "execution_count": 23,
     "metadata": {},
     "output_type": "execute_result"
    },
    {
     "data": {
      "image/png": "[encoded data removed]",
      "text/plain": [
       "<Figure size 432x288 with 1 Axes>"
      ]
     },
     "metadata": {
      "needs_background": "light"
     },
     "output_type": "display_data"
    }
   ],
   "source": [
    "plt.plot(T,p_sol)\n",
    "plt.plot(T,sigma_s_sol,'-.')\n",
    "plt.plot(T,sigma_d_sol,':')\n",
    "\n",
    "#plt.ylim(0,10)"
   ]
  },
  {
   "cell_type": "code",
   "execution_count": null,
   "metadata": {},
   "outputs": [],
   "source": []
  },
  {
   "cell_type": "code",
   "execution_count": null,
   "metadata": {},
   "outputs": [],
   "source": []
  }
 ],
 "metadata": {
  "kernelspec": {
   "display_name": "Python 3",
   "language": "python",
   "name": "python3"
  },
  "language_info": {
   "codemirror_mode": {
    "name": "ipython",
    "version": 3
   },
   "file_extension": ".py",
   "mimetype": "text/x-python",
   "name": "python",
   "nbconvert_exporter": "python",
   "pygments_lexer": "ipython3",
   "version": "3.7.4"
  }
 },
 "nbformat": 4,
 "nbformat_minor": 2
}
